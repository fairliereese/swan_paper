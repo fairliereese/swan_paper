{
 "cells": [
  {
   "cell_type": "code",
   "execution_count": 1,
   "metadata": {},
   "outputs": [],
   "source": [
    "import swan_vis as swan"
   ]
  },
  {
   "cell_type": "code",
   "execution_count": 2,
   "metadata": {},
   "outputs": [],
   "source": [
    "data_dir = '/Users/fairliereese/mortazavi_lab/data/200428_swan_paper/hffc6_hepg2/take2/'\n",
    "ab_file = data_dir+'all_talon_abundance_filtered.tsv'\n",
    "ref_gtf = '/Users/fairliereese/mortazavi_lab/ref/gencode.v29/gencode.v29.annotation.gtf'\n",
    "hep_1_gtf = data_dir+'hepg2_1_talon.gtf'\n",
    "hep_2_gtf = data_dir+'hepg2_2_talon.gtf'\n",
    "hff_1_gtf = data_dir+'hffc6_1_talon.gtf'\n",
    "hff_2_gtf = data_dir+'hffc6_2_talon.gtf'\n",
    "hff_3_gtf = data_dir+'hffc6_3_talon.gtf'"
   ]
  },
  {
   "cell_type": "code",
   "execution_count": 3,
   "metadata": {},
   "outputs": [
    {
     "name": "stdout",
     "output_type": "stream",
     "text": [
      "Adding dataset annotation to the SwanGraph.\n",
      "Adding dataset HepG2_1 to the SwanGraph.\n",
      "Adding dataset HepG2_2 to the SwanGraph.\n",
      "Adding dataset HFFc6_1 to the SwanGraph.\n",
      "Adding dataset HFFc6_2 to the SwanGraph.\n",
      "Adding dataset HFFc6_3 to the SwanGraph.\n",
      "Saving graph as swan.p\n"
     ]
    }
   ],
   "source": [
    "# add data to the SwanGraph\n",
    "sg = swan.SwanGraph()\n",
    "sg.add_annotation(ref_gtf)\n",
    "sg.add_dataset('HepG2_1', hep_1_gtf,\n",
    "\tcounts_file=ab_file,\n",
    "\tcount_cols='hepg2_1')\n",
    "sg.add_dataset('HepG2_2', hep_2_gtf,\n",
    "\tcounts_file=ab_file,\n",
    "\tcount_cols='hepg2_2')\n",
    "sg.add_dataset('HFFc6_1', hff_1_gtf,\n",
    "\tcounts_file=ab_file,\n",
    "\tcount_cols='hffc6_1')\n",
    "sg.add_dataset('HFFc6_2', hff_2_gtf,\n",
    "\tcounts_file=ab_file,\n",
    "\tcount_cols='hffc6_2')\n",
    "sg.add_dataset('HFFc6_3', hff_3_gtf,\n",
    "\tcounts_file=ab_file,\n",
    "\tcount_cols='hffc6_3')\n",
    "\n",
    "# save graph for good measure\n",
    "sg.save_graph('swan')"
   ]
  },
  {
   "cell_type": "code",
   "execution_count": 4,
   "metadata": {},
   "outputs": [
    {
     "name": "stderr",
     "output_type": "stream",
     "text": [
      "Transforming to str index.\n"
     ]
    },
    {
     "name": "stdout",
     "output_type": "stream",
     "text": [
      "training location model: False\n",
      "training scale model: True\n",
      "iter   0: ll=76839008.205068\n",
      "iter   1: ll=76839008.205068, converged: 0.00% (loc: 100.00%, scale update: False), in 0.00sec\n",
      "iter   2: ll=3994961.414960, converged: 1.20% (loc: 1.20%, scale update: True), in 111.63sec\n",
      "iter   3: ll=3994961.414960, converged: 1.20% (loc: 100.00%, scale update: False), in 0.00sec\n",
      "iter   4: ll=2972738.740537, converged: 15.96% (loc: 15.96%, scale update: True), in 89.05sec\n",
      "iter   5: ll=2972738.740537, converged: 15.96% (loc: 100.00%, scale update: False), in 0.00sec\n",
      "iter   6: ll=2919018.652501, converged: 21.45% (loc: 21.45%, scale update: True), in 83.04sec\n",
      "iter   7: ll=2919018.652501, converged: 21.45% (loc: 100.00%, scale update: False), in 0.00sec\n",
      "iter   8: ll=2746114.113052, converged: 24.10% (loc: 24.10%, scale update: True), in 74.21sec\n",
      "iter   9: ll=2746114.113052, converged: 24.10% (loc: 100.00%, scale update: False), in 0.00sec\n",
      "iter  10: ll=2745964.853568, converged: 99.88% (loc: 99.88%, scale update: True), in 64.03sec\n",
      "iter  11: ll=2745964.853568, converged: 99.88% (loc: 100.00%, scale update: False), in 0.00sec\n",
      "iter  12: ll=2745900.750399, converged: 99.96% (loc: 99.96%, scale update: True), in 3.00sec\n",
      "iter  13: ll=2745900.750399, converged: 99.96% (loc: 100.00%, scale update: False), in 0.00sec\n",
      "iter  14: ll=2745893.960127, converged: 99.99% (loc: 99.99%, scale update: True), in 1.87sec\n",
      "iter  15: ll=2745893.960127, converged: 99.99% (loc: 100.00%, scale update: False), in 0.00sec\n",
      "iter  16: ll=2745893.960127, converged: 100.00% (loc: 100.00%, scale update: True), in 1.58sec\n"
     ]
    },
    {
     "name": "stderr",
     "output_type": "stream",
     "text": [
      "/Users/fairliereese/miniconda3/lib/python3.7/site-packages/dask/array/core.py:2622: RuntimeWarning: divide by zero encountered in true_divide\n",
      "  size = (limit / dtype.itemsize / largest_block) ** (1 / len(autos))\n",
      "Transforming to str index.\n"
     ]
    },
    {
     "name": "stdout",
     "output_type": "stream",
     "text": [
      "training location model: False\n",
      "training scale model: True\n",
      "iter   0: ll=292114902.725192\n",
      "iter   1: ll=292114902.725192, converged: 0.00% (loc: 100.00%, scale update: False), in 0.00sec\n",
      "iter   2: ll=9689621.464688, converged: 0.64% (loc: 0.64%, scale update: True), in 440.85sec\n",
      "iter   3: ll=9689621.464688, converged: 0.64% (loc: 100.00%, scale update: False), in 0.00sec\n",
      "iter   4: ll=6067450.782106, converged: 8.86% (loc: 8.86%, scale update: True), in 374.06sec\n",
      "iter   5: ll=6067450.782106, converged: 8.86% (loc: 100.00%, scale update: False), in 0.00sec\n",
      "iter   6: ll=5861723.183757, converged: 13.56% (loc: 13.56%, scale update: True), in 340.69sec\n",
      "iter   7: ll=5861723.183757, converged: 13.56% (loc: 100.00%, scale update: False), in 0.01sec\n",
      "iter   8: ll=5184440.659661, converged: 15.97% (loc: 15.97%, scale update: True), in 303.59sec\n",
      "iter   9: ll=5184440.659661, converged: 15.97% (loc: 100.00%, scale update: False), in 0.00sec\n",
      "iter  10: ll=5184122.283550, converged: 99.89% (loc: 99.89%, scale update: True), in 275.93sec\n",
      "iter  11: ll=5184122.283550, converged: 99.89% (loc: 100.00%, scale update: False), in 0.00sec\n",
      "iter  12: ll=5183985.427572, converged: 99.97% (loc: 99.97%, scale update: True), in 8.36sec\n",
      "iter  13: ll=5183985.427572, converged: 99.97% (loc: 100.00%, scale update: False), in 0.00sec\n",
      "iter  14: ll=5183973.042257, converged: 100.00% (loc: 100.00%, scale update: True), in 7.57sec\n",
      "iter  15: ll=5183973.042257, converged: 100.00% (loc: 100.00%, scale update: False), in 0.00sec\n",
      "iter  16: ll=5183973.042257, converged: 100.00% (loc: 100.00%, scale update: True), in 7.01sec\n"
     ]
    },
    {
     "name": "stderr",
     "output_type": "stream",
     "text": [
      "/Users/fairliereese/miniconda3/lib/python3.7/site-packages/dask/array/core.py:2622: RuntimeWarning: divide by zero encountered in true_divide\n",
      "  size = (limit / dtype.itemsize / largest_block) ** (1 / len(autos))\n"
     ]
    },
    {
     "name": "stdout",
     "output_type": "stream",
     "text": [
      "Found 4009 differentially expressed genes\n",
      "Found 4909 differentially expressed transcripts\n",
      "Found 279 isoform switching genes\n",
      "Saving graph as swan.p\n"
     ]
    }
   ],
   "source": [
    "# de gene and transcript tests\n",
    "dataset_groups=[['HepG2_1', 'HepG2_2'], ['HFFc6_1', 'HFFc6_2', 'HFFc6_3']]\n",
    "\n",
    "sg.de_gene_test(dataset_groups)\n",
    "sg.de_transcript_test(dataset_groups)\n",
    "\n",
    "de_gids, _ = sg.get_de_genes()\n",
    "print('Found {} differentially expressed genes'.format(len(de_gids)))\n",
    "\n",
    "de_tids, _ = sg.get_de_transcripts()\n",
    "print('Found {} differentially expressed transcripts'.format(len(de_tids)))\n",
    "\n",
    "is_gids, _ = sg.find_isoform_switching_genes()\n",
    "print('Found {} isoform switching genes'.format(len(is_gids)))\n",
    "\n",
    "# save graph for good measure\n",
    "sg.save_graph('swan')"
   ]
  },
  {
   "cell_type": "code",
   "execution_count": null,
   "metadata": {},
   "outputs": [],
   "source": [
    "# exon skipping and intron retention detection\n",
    "es_gids = sg.find_es_genes()\n",
    "print('Found {} novel exon-skipping genes'.format(len(es_gids)))\n",
    "ir_gids = sg.find_ir_genes()\n",
    "print('Found {} novel intron-retaining genes'.format(len(ir_gids)))"
   ]
  },
  {
   "cell_type": "code",
   "execution_count": null,
   "metadata": {},
   "outputs": [],
   "source": [
    "# find genes that have exon skipping or intron retention and are\n",
    "# isoform switching\n",
    "ir_es_gids = list(set(ir_gids+es_gids))\n",
    "cool_gids = list(set(is_gids)&set(ir_es_gids))\n",
    "print(cool_gids)"
   ]
  },
  {
   "cell_type": "code",
   "execution_count": null,
   "metadata": {},
   "outputs": [],
   "source": [
    "# create gene report for ADRM1\n",
    "sg.gen_report('ADRM1',\n",
    "              'adrm1_paper',\n",
    "              heatmap=True,\n",
    "              novelty=True,\n",
    "              include_qvals=True,\n",
    "              indicate_novel=True)"
   ]
  }
 ],
 "metadata": {
  "kernelspec": {
   "display_name": "Python 3",
   "language": "python",
   "name": "python3"
  },
  "language_info": {
   "codemirror_mode": {
    "name": "ipython",
    "version": 3
   },
   "file_extension": ".py",
   "mimetype": "text/x-python",
   "name": "python",
   "nbconvert_exporter": "python",
   "pygments_lexer": "ipython3",
   "version": "3.7.4"
  }
 },
 "nbformat": 4,
 "nbformat_minor": 4
}
