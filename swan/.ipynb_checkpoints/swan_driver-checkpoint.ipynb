{
 "cells": [
  {
   "cell_type": "code",
   "execution_count": 1,
   "metadata": {},
   "outputs": [],
   "source": [
    "import swan_vis as swan"
   ]
  },
  {
   "cell_type": "code",
   "execution_count": 2,
   "metadata": {},
   "outputs": [],
   "source": [
    "data_dir = '/Users/fairliereese/mortazavi_lab/data/200428_swan_paper/hffc6_hepg2/take2/'\n",
    "ab_file = data_dir+'all_talon_abundance_filtered.tsv'\n",
    "ref_gtf = '/Users/fairliereese/mortazavi_lab/ref/gencode.v29/gencode.v29.annotation.gtf'\n",
    "hep_1_gtf = data_dir+'hepg2_1_talon.gtf'\n",
    "hep_2_gtf = data_dir+'hepg2_2_talon.gtf'\n",
    "hff_1_gtf = data_dir+'hffc6_1_talon.gtf'\n",
    "hff_2_gtf = data_dir+'hffc6_2_talon.gtf'\n",
    "hff_3_gtf = data_dir+'hffc6_3_talon.gtf'"
   ]
  },
  {
   "cell_type": "code",
   "execution_count": 3,
   "metadata": {},
   "outputs": [
    {
     "name": "stdout",
     "output_type": "stream",
     "text": [
      "Adding dataset annotation to the SwanGraph.\n",
      "Adding dataset HepG2_1 to the SwanGraph.\n",
      "Adding dataset HepG2_2 to the SwanGraph.\n",
      "Adding dataset HFFc6_1 to the SwanGraph.\n",
      "Adding dataset HFFc6_2 to the SwanGraph.\n",
      "Adding dataset HFFc6_3 to the SwanGraph.\n",
      "Saving graph as swan.p\n"
     ]
    }
   ],
   "source": [
    "# add data to the SwanGraph\n",
    "sg = swan.SwanGraph()\n",
    "sg.add_annotation(ref_gtf)\n",
    "sg.add_dataset('HepG2_1', hep_1_gtf,\n",
    "\tcounts_file=ab_file,\n",
    "\tcount_cols='hepg2_1')\n",
    "sg.add_dataset('HepG2_2', hep_2_gtf,\n",
    "\tcounts_file=ab_file,\n",
    "\tcount_cols='hepg2_2')\n",
    "sg.add_dataset('HFFc6_1', hff_1_gtf,\n",
    "\tcounts_file=ab_file,\n",
    "\tcount_cols='hffc6_1')\n",
    "sg.add_dataset('HFFc6_2', hff_2_gtf,\n",
    "\tcounts_file=ab_file,\n",
    "\tcount_cols='hffc6_2')\n",
    "sg.add_dataset('HFFc6_3', hff_3_gtf,\n",
    "\tcounts_file=ab_file,\n",
    "\tcount_cols='hffc6_3')\n",
    "\n",
    "# save graph for good measure\n",
    "sg.save_graph('swan')"
   ]
  },
  {
   "cell_type": "code",
   "execution_count": null,
   "metadata": {},
   "outputs": [
    {
     "name": "stderr",
     "output_type": "stream",
     "text": [
      "Transforming to str index.\n"
     ]
    },
    {
     "name": "stdout",
     "output_type": "stream",
     "text": [
      "training location model: False\n",
      "training scale model: True\n",
      "iter   0: ll=76839008.205068\n",
      "iter   1: ll=76839008.205068, converged: 0.00% (loc: 100.00%, scale update: False), in 0.00sec\n",
      "Fitting 58906 dispersion models: (progress not available with multiprocessing)"
     ]
    }
   ],
   "source": [
    "# de gene and transcript tests\n",
    "dataset_groups=[['HepG2_1', 'HepG2_2'], ['HFFc6_1', 'HFFc6_2', 'HFFc6_3']]\n",
    "\n",
    "sg.de_gene_test(dataset_groups)\n",
    "sg.de_transcript_test(dataset_groups)\n",
    "\n",
    "de_gids, _ = sg.get_de_genes()\n",
    "print('Found {} differentially expressed genes'.format(len(de_gids)))\n",
    "\n",
    "de_tids, _ = sg.get_de_transcripts()\n",
    "print('Found {} differentially expressed transcripts'.format(len(de_tids)))\n",
    "\n",
    "is_gids, _ = sg.find_isoform_switching_genes()\n",
    "print('Found {} isoform switching genes'.format(len(is_gids)))\n",
    "\n",
    "# save graph for good measure\n",
    "sg.save_graph('swan')"
   ]
  },
  {
   "cell_type": "code",
   "execution_count": null,
   "metadata": {},
   "outputs": [],
   "source": [
    "# exon skipping and intron retention detection\n",
    "es_gids = sg.find_es_genes()\n",
    "print('Found {} novel exon-skipping genes'.format(len(es_gids)))\n",
    "ir_gids = sg.find_ir_genes()\n",
    "print('Found {} novel intron-retaining genes'.format(len(ir_gids)))"
   ]
  },
  {
   "cell_type": "code",
   "execution_count": null,
   "metadata": {},
   "outputs": [],
   "source": [
    "# find genes that have exon skipping or intron retention and are\n",
    "# isoform switching\n",
    "ir_es_gids = list(set(ir_gids+es_gids))\n",
    "cool_gids = list(set(is_gids)&set(ir_es_gids))\n",
    "print(cool_gids)"
   ]
  },
  {
   "cell_type": "code",
   "execution_count": null,
   "metadata": {},
   "outputs": [],
   "source": [
    "# create gene report for ADRM1\n",
    "sg.gen_report('ADRM1',\n",
    "              'adrm1_paper',\n",
    "              heatmap=True,\n",
    "              novelty=True,\n",
    "              include_qvals=True,\n",
    "              indicate_novel=True)"
   ]
  }
 ],
 "metadata": {
  "kernelspec": {
   "display_name": "Python 3",
   "language": "python",
   "name": "python3"
  },
  "language_info": {
   "codemirror_mode": {
    "name": "ipython",
    "version": 3
   },
   "file_extension": ".py",
   "mimetype": "text/x-python",
   "name": "python",
   "nbconvert_exporter": "python",
   "pygments_lexer": "ipython3",
   "version": "3.7.4"
  }
 },
 "nbformat": 4,
 "nbformat_minor": 4
}
